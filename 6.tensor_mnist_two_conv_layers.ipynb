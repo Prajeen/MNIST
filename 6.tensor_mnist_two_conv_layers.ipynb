{
 "cells": [
  {
   "cell_type": "code",
   "execution_count": 2,
   "metadata": {
    "collapsed": false
   },
   "outputs": [],
   "source": [
    "import tensorflow as tf\n",
    "import tensorflow.examples.tutorials.mnist.input_data as inputData\n",
    "import matplotlib.pyplot as plt\n",
    "import numpy as np\n",
    "from sklearn.metrics import confusion_matrix\n",
    "import time\n",
    "from datetime import timedelta"
   ]
  },
  {
   "cell_type": "code",
   "execution_count": 4,
   "metadata": {
    "collapsed": false
   },
   "outputs": [
    {
     "name": "stdout",
     "output_type": "stream",
     "text": [
      "Extracting data\\train-images-idx3-ubyte.gz\n",
      "Extracting data\\train-labels-idx1-ubyte.gz\n",
      "Extracting data\\t10k-images-idx3-ubyte.gz\n",
      "Extracting data\\t10k-labels-idx1-ubyte.gz\n"
     ]
    }
   ],
   "source": [
    "data = inputData.read_data_sets('data', one_hot=True)"
   ]
  },
  {
   "cell_type": "code",
   "execution_count": 5,
   "metadata": {
    "collapsed": true
   },
   "outputs": [],
   "source": [
    "def plotNumbers(imset, valset, dimen):\n",
    "    fig, axis = plt.subplots(dimen[0],dimen[1])\n",
    "\n",
    "    for pos, sub in enumerate(axis.flat):\n",
    "        sub.imshow(imset[pos].reshape((28,28)))\n",
    "        sub.set_xticks([])\n",
    "        sub.set_yticks([])\n",
    "        sub.set_xlabel('pred:%r' %valset[pos])\n",
    "    plt.show()"
   ]
  },
  {
   "cell_type": "code",
   "execution_count": 6,
   "metadata": {
    "collapsed": false
   },
   "outputs": [
    {
     "name": "stdout",
     "output_type": "stream",
     "text": [
      "input is             <tf.Tensor 'Reshape:0' shape=(?, 28, 28, 1) dtype=float32>\n",
      "weight is            <tf.Variable 'Variable:0' shape=(5, 5, 1, 12) dtype=float32_ref>\n",
      "bias is              <tf.Variable 'Variable_1:0' shape=(12,) dtype=float32_ref>\n",
      "conv out, cn1 is     <tf.Tensor 'add:0' shape=(?, 28, 28, 12) dtype=float32>\n",
      "conv relu, cn1_relu  <tf.Tensor 'Relu:0' shape=(?, 28, 28, 12) dtype=float32>\n"
     ]
    }
   ],
   "source": [
    "image_size = 28\n",
    "input_size = 784\n",
    "LRF_size = 5\n",
    "cn1_filters = 12\n",
    "cn2_filters = 20\n",
    "output_layer = 10\n",
    "\n",
    "\n",
    "X = tf.placeholder(tf.float32, [None, input_size])\n",
    "X_for_conv = tf.reshape(X, [-1, image_size, image_size, 1])\n",
    "Y_ori = tf.placeholder(tf.float32, shape=[None, output_layer])\n",
    "\n",
    "Wcn1 = tf.Variable(initial_value=tf.truncated_normal(shape=[LRF_size, LRF_size, 1, cn1_filters], stddev=0.1))\n",
    "bcn1 = tf.Variable(initial_value=tf.ones(shape=[cn1_filters])/10)\n",
    "\n",
    "cn1 = tf.nn.conv2d(X_for_conv, Wcn1, strides=[1, 1, 1, 1], padding='SAME') + bcn1\n",
    "cn1_relu = tf.nn.relu(cn1)\n",
    "\n",
    "print('input is             %a' %X_for_conv)\n",
    "print('weight is            %a' %Wcn1)\n",
    "print('bias is              %a' %bcn1)\n",
    "print('conv out, cn1 is     %a' %cn1)\n",
    "print('conv relu, cn1_relu  %a' %cn1_relu)"
   ]
  },
  {
   "cell_type": "code",
   "execution_count": 7,
   "metadata": {
    "collapsed": false
   },
   "outputs": [
    {
     "name": "stdout",
     "output_type": "stream",
     "text": [
      "weight is            <tf.Variable 'Variable_2:0' shape=(5, 5, 12, 20) dtype=float32_ref>\n",
      "bias is              <tf.Variable 'Variable_3:0' shape=(20,) dtype=float32_ref>\n",
      "conv out, cn2 is     <tf.Tensor 'add_1:0' shape=(?, 28, 28, 20) dtype=float32>\n",
      "conv relu, cn2_relu  <tf.Tensor 'Relu_1:0' shape=(?, 28, 28, 20) dtype=float32>\n"
     ]
    }
   ],
   "source": [
    "Wcn2 = tf.Variable(initial_value=tf.truncated_normal(shape=[LRF_size, LRF_size, cn1_filters, cn2_filters], stddev=0.1))\n",
    "bcn2 = tf.Variable(initial_value=tf.ones(cn2_filters)/10)\n",
    "\n",
    "cn2 = tf.nn.conv2d(cn1_relu, Wcn2, strides=[1, 1, 1, 1], padding='SAME') + bcn2\n",
    "cn2_relu = tf.nn.relu(cn2)\n",
    "\n",
    "print('weight is            %a' %Wcn2)\n",
    "print('bias is              %a' %bcn2)\n",
    "print('conv out, cn2 is     %a' %cn2)\n",
    "print('conv relu, cn2_relu  %a' %cn2_relu)"
   ]
  },
  {
   "cell_type": "code",
   "execution_count": 8,
   "metadata": {
    "collapsed": false
   },
   "outputs": [
    {
     "name": "stdout",
     "output_type": "stream",
     "text": [
      "cn2_reshaped is      <tf.Tensor 'Reshape_1:0' shape=(?, 15680) dtype=float32>\n",
      "weight is            <tf.Variable 'Variable_4:0' shape=(15680, 10) dtype=float32_ref>\n",
      "bias is              <tf.Variable 'Variable_5:0' shape=(10,) dtype=float32_ref>\n",
      "logits_L is          <tf.Tensor 'add_2:0' shape=(?, 10) dtype=float32>\n"
     ]
    }
   ],
   "source": [
    "fully_connected_input_size = cn2_relu.shape[1:4].num_elements()\n",
    "cn2_reshaped = tf.reshape(cn2_relu, shape=[-1, fully_connected_input_size])\n",
    "\n",
    "WL = tf.Variable(initial_value=tf.truncated_normal(shape=[fully_connected_input_size, output_layer], stddev=0.1)) \n",
    "bL = tf.Variable(initial_value=tf.ones(output_layer)/10)\n",
    "\n",
    "logits_L = tf.matmul(cn2_reshaped, WL) + bL\n",
    "Y_pred = tf.nn.softmax(logits_L)\n",
    "\n",
    "print('cn2_reshaped is      %a' %cn2_reshaped)\n",
    "print('weight is            %a' %WL)\n",
    "print('bias is              %a' %bL)\n",
    "print('logits_L is          %a' %logits_L)"
   ]
  },
  {
   "cell_type": "code",
   "execution_count": 10,
   "metadata": {
    "collapsed": false
   },
   "outputs": [],
   "source": [
    "cross_entropy = tf.nn.softmax_cross_entropy_with_logits(logits=logits_L, labels=Y_ori)\n",
    "cost = tf.reduce_mean(cross_entropy)\n",
    "\n",
    "optimizer = tf.train.AdamOptimizer(learning_rate=0.003).minimize(cost)\n",
    "\n",
    "correct_prediction = tf.equal(tf.argmax(Y_pred, axis=1), tf.argmax(Y_ori, axis=1))\n",
    "accuracy = tf.reduce_mean(tf.cast(correct_prediction, tf.float32))"
   ]
  },
  {
   "cell_type": "code",
   "execution_count": null,
   "metadata": {
    "collapsed": false
   },
   "outputs": [],
   "source": [
    "init = tf.global_variables_initializer()\n",
    "sess = tf.Session()\n",
    "sess.run(init)\n",
    "\n",
    "accu_list = []\n",
    "cost_list = []\n",
    "iteration = 500\n",
    "acc_check_list = np.arange(0, iteration, int(iteration/50))\n",
    "\n",
    "start_time = time.time()\n",
    "for val in range(iteration):\n",
    "    next_batch_x, next_batch_y = data.train.next_batch(100)\n",
    "    sess.run(optimizer, feed_dict={X: next_batch_x, Y_ori: next_batch_y})\n",
    "\n",
    "    if val in acc_check_list:\n",
    "        accu, cost_ = sess.run((accuracy, cost), feed_dict={X: data.test.images, Y_ori: data.test.labels})\n",
    "        accu_list.append(accu)\n",
    "        cost_list.append(cost_)\n",
    "    \n",
    "print(accu_list)\n",
    "\n",
    "end_time = time.time()\n",
    "print('total time taken is %s' %str(timedelta(seconds=int(round(end_time-start_time)))))"
   ]
  },
  {
   "cell_type": "code",
   "execution_count": null,
   "metadata": {
    "collapsed": false
   },
   "outputs": [],
   "source": [
    "plt.plot(acc_check_list, accu_list[:])\n",
    "#plt.axis([0,iteration,0.88,0.99])\n",
    "\n",
    "plt.plot(acc_check_list, cost_list[:])\n",
    "plt.show()"
   ]
  },
  {
   "cell_type": "code",
   "execution_count": null,
   "metadata": {
    "collapsed": false
   },
   "outputs": [],
   "source": [
    "plt.plot(acc_check_list, accu_list[:])\n",
    "plt.axis([0,iteration,0.88,0.99])\n",
    "plt.show()"
   ]
  },
  {
   "cell_type": "code",
   "execution_count": null,
   "metadata": {
    "collapsed": false
   },
   "outputs": [],
   "source": [
    "li = ['a', 'a', 'b','b','b', 'b','c','d','d','d','d']\n",
    "#one option\n",
    "max(li,key=li.count)\n",
    "\n",
    "#second option\n",
    "from collections import Counter\n",
    "data = Counter(li)\n",
    "data.most_common(1)[0][0]"
   ]
  },
  {
   "cell_type": "code",
   "execution_count": null,
   "metadata": {
    "collapsed": true
   },
   "outputs": [],
   "source": [
    "[0.1046, 0.1355, 0.094, 0.1723, 0.1364, 0.1418, 0.1617, 0.1769, 0.1959, 0.2038, 0.1836, 0.1486, 0.1181, 0.1191, 0.1319, 0.1696, \n",
    " 0.2485, 0.3268, 0.374, 0.4423, 0.5107, 0.5764, 0.6159, 0.6456, 0.6565, 0.6398, 0.6516, 0.6938, 0.7298, 0.7433, 0.7533, 0.7492, \n",
    " 0.7586, 0.7717, 0.7808, 0.793, 0.8049, 0.8137, 0.8137, 0.8158, 0.824, 0.8233, 0.8199, 0.8233, 0.8244, 0.8206, 0.8317, 0.8373, \n",
    " 0.8427, 0.8449]\n",
    "#total time taken is 0:12:08\n",
    "#iterations:50\n",
    "\n",
    "[0.1833, 0.2252, 0.2357, 0.2706, 0.314, 0.3577, 0.4375, 0.534, 0.6308, 0.6571, 0.7183, 0.7583, 0.7967, 0.8101, 0.8089, 0.82, \n",
    " 0.8463, 0.8467, 0.8631, 0.8755, 0.8743, 0.8791, 0.8843, 0.8938, 0.9012, 0.8997, 0.8933, 0.8968, 0.907, 0.9108, 0.9089, 0.9118, \n",
    " 0.9201, 0.9237, 0.9169, 0.9151, 0.9257, 0.9337, 0.9332, 0.9303, 0.9318, 0.9343, 0.9365, 0.9378, 0.9387, 0.9382, 0.9408, 0.943, \n",
    " 0.9421, 0.9458]\n",
    "#total time taken is 0:12:22\n",
    "#iterations:100"
   ]
  }
 ],
 "metadata": {
  "kernelspec": {
   "display_name": "Python 3",
   "language": "python",
   "name": "python3"
  },
  "language_info": {
   "codemirror_mode": {
    "name": "ipython",
    "version": 3
   },
   "file_extension": ".py",
   "mimetype": "text/x-python",
   "name": "python",
   "nbconvert_exporter": "python",
   "pygments_lexer": "ipython3",
   "version": "3.5.5"
  }
 },
 "nbformat": 4,
 "nbformat_minor": 2
}
