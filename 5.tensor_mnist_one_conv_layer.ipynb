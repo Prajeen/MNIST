{
 "cells": [
  {
   "cell_type": "code",
   "execution_count": 3,
   "metadata": {
    "collapsed": false
   },
   "outputs": [],
   "source": [
    "import tensorflow as tf\n",
    "import tensorflow.examples.tutorials.mnist.input_data as inputData\n",
    "import matplotlib.pyplot as plt\n",
    "import numpy as np\n",
    "from sklearn.metrics import confusion_matrix\n",
    "import time\n",
    "from datetime import timedelta"
   ]
  },
  {
   "cell_type": "code",
   "execution_count": 5,
   "metadata": {
    "collapsed": false
   },
   "outputs": [
    {
     "name": "stdout",
     "output_type": "stream",
     "text": [
      "Extracting data\\train-images-idx3-ubyte.gz\n",
      "Extracting data\\train-labels-idx1-ubyte.gz\n",
      "Extracting data\\t10k-images-idx3-ubyte.gz\n",
      "Extracting data\\t10k-labels-idx1-ubyte.gz\n"
     ]
    }
   ],
   "source": [
    "data = inputData.read_data_sets('data', one_hot=True)"
   ]
  },
  {
   "cell_type": "code",
   "execution_count": 6,
   "metadata": {
    "collapsed": true
   },
   "outputs": [],
   "source": [
    "def plotNumbers(imset, valset, dimen):\n",
    "    fig, axis = plt.subplots(dimen[0],dimen[1])\n",
    "\n",
    "    for pos, sub in enumerate(axis.flat):\n",
    "        sub.imshow(imset[pos].reshape((28,28)))\n",
    "        sub.set_xticks([])\n",
    "        sub.set_yticks([])\n",
    "        sub.set_xlabel('pred:%r' %valset[pos])\n",
    "    plt.show()"
   ]
  },
  {
   "cell_type": "code",
   "execution_count": 7,
   "metadata": {
    "collapsed": false
   },
   "outputs": [
    {
     "name": "stdout",
     "output_type": "stream",
     "text": [
      "1st layer input is  <tf.Tensor 'Reshape:0' shape=(?, 28, 28, 1) dtype=float32>\n",
      "weight is           <tf.Variable 'Variable:0' shape=(5, 5, 1, 12) dtype=float32_ref>\n",
      "conv net, cn1 is    <tf.Tensor 'add:0' shape=(?, 28, 28, 12) dtype=float32>\n",
      "relu out, Y_cn1 is  <tf.Tensor 'Relu:0' shape=(?, 28, 28, 12) dtype=float32>\n"
     ]
    }
   ],
   "source": [
    "output_size = 10\n",
    "input_size = 784\n",
    "image_size = 28\n",
    "num_input_layer = 1\n",
    "\n",
    "\n",
    "filter_size = 5\n",
    "cn1_layers = 12\n",
    "\n",
    "#X = tf.placeholder(tf.float32, [None, image_size, image_size, num_input_layer])\n",
    "\n",
    "X = tf.placeholder(tf.float32, [None, image_size*image_size])\n",
    "X_shaped = tf.reshape(X, [-1, image_size, image_size, num_input_layer])\n",
    "\n",
    "Y_ori = tf.placeholder(tf.float32, [None, output_size])\n",
    "\n",
    "Wcn1 = tf.Variable(initial_value=tf.truncated_normal([filter_size, filter_size, num_input_layer, cn1_layers], stddev=0.1))\n",
    "bcn1 = tf.Variable(initial_value=tf.ones(cn1_layers)/10)\n",
    "\n",
    "cn1 = tf.nn.conv2d(X_shaped, Wcn1, [1, 1, 1, 1], 'SAME') + bcn1\n",
    "Y_cn1 = tf.nn.relu(cn1)\n",
    "\n",
    "print('1st layer input is  %a' %X_shaped)\n",
    "print('weight is           %a' %Wcn1)\n",
    "print('conv net, cn1 is    %a' %cn1)\n",
    "print('relu out, Y_cn1 is  %a' %Y_cn1)"
   ]
  },
  {
   "cell_type": "code",
   "execution_count": 8,
   "metadata": {
    "collapsed": false
   },
   "outputs": [
    {
     "name": "stdout",
     "output_type": "stream",
     "text": [
      "new relu out,Y_cn1 is <tf.Tensor 'Reshape_1:0' shape=(?, 9408) dtype=float32>\n"
     ]
    }
   ],
   "source": [
    "cn_shape = Y_cn1.shape\n",
    "cn_num_elements = cn_shape[1:4].num_elements()\n",
    "\n",
    "Y_cn1 = tf.reshape(Y_cn1, (-1, cn_num_elements))\n",
    "print('new relu out,Y_cn1 is %a' %Y_cn1)"
   ]
  },
  {
   "cell_type": "code",
   "execution_count": 9,
   "metadata": {
    "collapsed": false
   },
   "outputs": [
    {
     "name": "stdout",
     "output_type": "stream",
     "text": [
      "<tf.Variable 'Variable_2:0' shape=(9408, 10) dtype=float32_ref>\n",
      "<tf.Variable 'Variable_3:0' shape=(10,) dtype=float32_ref>\n"
     ]
    }
   ],
   "source": [
    "WL = tf.Variable(initial_value=tf.truncated_normal([cn_num_elements, output_size], stddev=0.1))\n",
    "bL = tf.Variable(initial_value=tf.ones(output_size)/10)\n",
    "\n",
    "print(WL)\n",
    "print(bL)"
   ]
  },
  {
   "cell_type": "code",
   "execution_count": 10,
   "metadata": {
    "collapsed": false
   },
   "outputs": [],
   "source": [
    "lgL = tf.matmul(Y_cn1, WL) + bL\n",
    "Y_pred = tf.nn.softmax(lgL)"
   ]
  },
  {
   "cell_type": "code",
   "execution_count": 11,
   "metadata": {
    "collapsed": false
   },
   "outputs": [
    {
     "name": "stdout",
     "output_type": "stream",
     "text": [
      "WARNING:tensorflow:From <ipython-input-11-71a7dfd4c9de>:1: softmax_cross_entropy_with_logits (from tensorflow.python.ops.nn_ops) is deprecated and will be removed in a future version.\n",
      "Instructions for updating:\n",
      "\n",
      "Future major versions of TensorFlow will allow gradients to flow\n",
      "into the labels input on backprop by default.\n",
      "\n",
      "See @{tf.nn.softmax_cross_entropy_with_logits_v2}.\n",
      "\n"
     ]
    }
   ],
   "source": [
    "cross_entropy = tf.nn.softmax_cross_entropy_with_logits(logits=lgL, labels=Y_ori)\n",
    "cost = tf.reduce_mean(cross_entropy)\n",
    "\n",
    "optimizer = tf.train.AdamOptimizer(0.003).minimize(cost)\n",
    "\n",
    "correct_prediction = tf.equal(tf.argmax(Y_pred, axis=1), tf.argmax(Y_ori, axis=1))\n",
    "accuracy = tf.reduce_mean(tf.cast(correct_prediction, tf.float32))"
   ]
  },
  {
   "cell_type": "code",
   "execution_count": 14,
   "metadata": {
    "collapsed": false
   },
   "outputs": [
    {
     "name": "stdout",
     "output_type": "stream",
     "text": [
      "[0.1405]\n",
      "total time taken is 0:00:04\n"
     ]
    }
   ],
   "source": [
    "init = tf.global_variables_initializer()\n",
    "sess = tf.Session()\n",
    "sess.run(init)\n",
    "\n",
    "accu_list = []\n",
    "cost_list = []\n",
    "iteration = 1\n",
    "#acc_check_list = np.arange(0, iteration, int(iteration/50))\n",
    "\n",
    "start_time = time.time()\n",
    "for val in range(iteration):\n",
    "    next_batch_x, next_batch_y = data.train.next_batch(100)\n",
    "    sess.run(optimizer, feed_dict={X: next_batch_x, Y_ori: next_batch_y})\n",
    "    \n",
    "    #if val in acc_check_list:\n",
    "        #accu, cost_ = sess.run((accuracy, cost), feed_dict={X: data.test.images, Y_ori: data.test.labels })\n",
    "        #accu_list.append(accu)\n",
    "        #cost_list.append(cost_)\n",
    "        \n",
    "    accu, cost_ = sess.run((accuracy, cost), feed_dict={X: data.test.images, Y_ori: data.test.labels })\n",
    "    accu_list.append(accu)\n",
    "    cost_list.append(cost_)\n",
    "\n",
    "#accu = sess.run(accuracy, feed_dict={X: data.test.images, Y_ori: data.test.labels })\n",
    "#accu_list.append(accu)\n",
    "print(accu_list)\n",
    "\n",
    "end_time = time.time()\n",
    "print('total time taken is %s' %str(timedelta(seconds=int(round(end_time-start_time)))))"
   ]
  },
  {
   "cell_type": "code",
   "execution_count": 287,
   "metadata": {
    "collapsed": false
   },
   "outputs": [
    {
     "data": {
      "image/png": "[encoded data removed]",
      "text/plain": [
       "<matplotlib.figure.Figure at 0x24a1e63dda0>"
      ]
     },
     "metadata": {},
     "output_type": "display_data"
    }
   ],
   "source": [
    "plt.plot(acc_check_list, accu_list[:])\n",
    "#plt.axis([0,iteration,0.88,0.99])\n",
    "\n",
    "plt.plot(acc_check_list, cost_list[:])\n",
    "plt.show()"
   ]
  },
  {
   "cell_type": "code",
   "execution_count": 288,
   "metadata": {
    "collapsed": false
   },
   "outputs": [
    {
     "data": {
      "image/png": "[encoded data removed]",
      "text/plain": [
       "<matplotlib.figure.Figure at 0x24a1ed25f60>"
      ]
     },
     "metadata": {},
     "output_type": "display_data"
    }
   ],
   "source": [
    "plt.plot(acc_check_list, accu_list[:])\n",
    "#plt.axis([0,iteration,0.88,0.99])\n",
    "plt.show()"
   ]
  },
  {
   "cell_type": "code",
   "execution_count": null,
   "metadata": {
    "collapsed": false
   },
   "outputs": [],
   "source": [
    "#total time taken is 0:02:40\n",
    "#total time taken is 0:02:36\n",
    "#total time taken is 0:02:35\n",
    "# iter: 1000, total time taken is 0:04:07"
   ]
  },
  {
   "cell_type": "code",
   "execution_count": null,
   "metadata": {
    "collapsed": true
   },
   "outputs": [],
   "source": [
    "[0.1717, 0.1979, 0.2371, 0.2434, 0.2556, 0.1824, 0.2206, 0.3259, 0.4307, 0.4427, 0.4819, 0.5067, 0.5266, 0.5502, 0.5915, 0.64, \n",
    " 0.6575, 0.6464, 0.6448, 0.6751, 0.7209, 0.7353, 0.7296, 0.739, 0.7456, 0.7521, 0.7635, 0.7928, 0.81, 0.8197, 0.8182, 0.808, \n",
    " 0.8076, 0.8228, 0.8343, 0.8447, 0.8498, 0.8457, 0.8452, 0.8475, 0.8511, 0.8574, 0.8684, 0.8676, 0.8663, 0.8611, 0.8613, 0.8659, \n",
    " 0.8743, 0.8798]\n",
    "#total time taken is 0:02:16\n",
    "#iterations:50\n",
    "\n",
    "[0.0903, 0.1056, 0.2703, 0.3575, 0.2757, 0.3833, 0.505, 0.5767, 0.6295, 0.6399, 0.6805, 0.762, 0.7511, 0.76, 0.7646, 0.7951, \n",
    " 0.8146, 0.836, 0.8352, 0.8483, 0.857, 0.8443, 0.8594, 0.8712, 0.8785, 0.8793, 0.8777, 0.8795, 0.8844, 0.8817, 0.8887, 0.8957, \n",
    " 0.8831, 0.8916, 0.9044, 0.8982, 0.8986, 0.9008, 0.9012, 0.9059, 0.9002, 0.9058, 0.9081, 0.906, 0.9071, 0.9101, 0.9143, 0.9173, \n",
    " 0.9165, 0.9172]\n",
    "#total time taken is 0:02:17\n",
    "#iterations:100\n",
    "\n",
    "[0.1069, 0.6845, 0.852, 0.8856, 0.9076, 0.9021, 0.9246, 0.9304, 0.937, 0.943, 0.9451, 0.9516, 0.9441, 0.9541, 0.9594, 0.9596, \n",
    " 0.9612, 0.961, 0.9628, 0.9679, 0.9662, 0.9668, 0.9687, 0.9692, 0.9698, 0.9683, 0.9713, 0.9702, 0.9715, 0.9716, 0.9719, 0.9743, \n",
    " 0.9718, 0.9742, 0.9736, 0.9735, 0.9733, 0.9734, 0.9749, 0.9751, 0.9765, 0.9773, 0.9766, 0.977, 0.9754, 0.9782, 0.9791, 0.9786, \n",
    " 0.9756, 0.9764]\n",
    "#total time taken is 0:03:25\n",
    "#iterations:1000\n",
    "\n",
    "[0.1572, 0.8915, 0.9204, 0.9458, 0.9529, 0.9657, 0.96, 0.9701, 0.9714, 0.9738, 0.9719, 0.9763, 0.9775, 0.9775, 0.98, 0.9788, \n",
    " 0.9799, 0.9799, 0.9791, 0.9819, 0.98, 0.9792, 0.9795, 0.9773, 0.983, 0.9747, 0.9816, 0.9806, 0.9797, 0.9813, 0.9831, 0.9823, \n",
    " 0.978, 0.9823, 0.9825, 0.9809, 0.9795, 0.9829, 0.9816, 0.9834, 0.9827, 0.9847, 0.9804, 0.9817, 0.982, 0.9831, 0.9821, 0.9838, \n",
    " 0.9837, 0.9834]\n",
    "#total time taken is 0:05:20\n",
    "#iterations:3000"
   ]
  }
 ],
 "metadata": {
  "kernelspec": {
   "display_name": "Python 3",
   "language": "python",
   "name": "python3"
  },
  "language_info": {
   "codemirror_mode": {
    "name": "ipython",
    "version": 3
   },
   "file_extension": ".py",
   "mimetype": "text/x-python",
   "name": "python",
   "nbconvert_exporter": "python",
   "pygments_lexer": "ipython3",
   "version": "3.5.5"
  }
 },
 "nbformat": 4,
 "nbformat_minor": 2
}
