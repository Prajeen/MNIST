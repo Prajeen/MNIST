{
 "cells": [
  {
   "cell_type": "code",
   "execution_count": 3,
   "metadata": {
    "collapsed": false
   },
   "outputs": [],
   "source": [
    "import tensorflow as tf\n",
    "import tensorflow.examples.tutorials.mnist.input_data as inputData\n",
    "import matplotlib.pyplot as plt\n",
    "import numpy as np\n",
    "from sklearn.metrics import confusion_matrix\n",
    "import time\n",
    "from datetime import timedelta"
   ]
  },
  {
   "cell_type": "code",
   "execution_count": 48,
   "metadata": {
    "collapsed": false
   },
   "outputs": [],
   "source": [
    "from tensorflow.python.keras.models import Sequential\n",
    "from tensorflow.python.keras.layers import InputLayer, Input\n",
    "from tensorflow.python.keras.layers import Reshape, MaxPooling2D, Dropout\n",
    "from tensorflow.python.keras.layers import Conv2D, Dense, Flatten\n",
    "from tensorflow.python.keras import optimizers"
   ]
  },
  {
   "cell_type": "code",
   "execution_count": 10,
   "metadata": {
    "collapsed": false
   },
   "outputs": [
    {
     "name": "stdout",
     "output_type": "stream",
     "text": [
      "Extracting data\\train-images-idx3-ubyte.gz\n",
      "Extracting data\\train-labels-idx1-ubyte.gz\n",
      "Extracting data\\t10k-images-idx3-ubyte.gz\n",
      "Extracting data\\t10k-labels-idx1-ubyte.gz\n"
     ]
    }
   ],
   "source": [
    "data = inputData.read_data_sets('data', one_hot=True)"
   ]
  },
  {
   "cell_type": "code",
   "execution_count": 56,
   "metadata": {
    "collapsed": false
   },
   "outputs": [],
   "source": [
    "input_size = 784\n",
    "image_size = 28\n",
    "cn1_filters = 14\n",
    "cn2_filters = 14\n",
    "FC_layer_size = 200\n",
    "final_layer_size = 10\n",
    "\n",
    "iObj = Sequential()\n",
    "\n",
    "iObj.add(InputLayer(input_shape=[input_size,]))\n",
    "iObj.add(Reshape([image_size, image_size, 1]))\n",
    "\n",
    "iObj.add(Conv2D(filters=cn1_filters, kernel_size=(5,5), padding='same', activation='relu' ))\n",
    "#iObj.add(MaxPooling2D(pool_size=(2,2), strides=(2,2), padding='same'))\n",
    "iObj.add(Dropout(rate=0.25, ))\n",
    "\n",
    "iObj.add(Conv2D(filters=cn2_filters, kernel_size=(5,5), padding='same', activation='relu'))\n",
    "#iObj.add(MaxPooling2D(pool_size=(2,2), strides=(2,2), padding='same'))\n",
    "iObj.add(Dropout(rate=0.25))\n",
    "\n",
    "iObj.add(Flatten())\n",
    "iObj.add(Dense(units=FC_layer_size, activation='relu'))\n",
    "iObj.add(Dropout(rate=0.25))\n",
    "\n",
    "iObj.add(Dense(units=final_layer_size, activation='softmax'))"
   ]
  },
  {
   "cell_type": "code",
   "execution_count": 60,
   "metadata": {
    "collapsed": false
   },
   "outputs": [
    {
     "name": "stdout",
     "output_type": "stream",
     "text": [
      "Epoch 1/1\n",
      "10/10 [==============================] - 1s 62ms/step - loss: 0.9761 - acc: 0.8000\n",
      "10/10 [==============================] - 0s 18ms/step\n",
      "loss 0.514001190662384\n",
      "acc 0.800000011920929\n"
     ]
    }
   ],
   "source": [
    "optimizer = optimizers.Adam(0.003)\n",
    "iObj.compile(optimizer, loss='categorical_crossentropy', metrics=['accuracy']) \n",
    "\n",
    "iObj.fit(data.train.images[:10], data.train.labels[:10], batch_size=100, epochs=1)\n",
    "\n",
    "evaluation = iObj.evaluate(data.train.images[:10], data.train.labels[:10], batch_size=100)\n",
    "for eva_matric_name, eva_value in zip(iObj.metrics_names, evaluation):\n",
    "    print(eva_matric_name, eva_value)\n",
    "\n",
    "prediction = iObj.predict(data.test.images[:10], batch_size=100)"
   ]
  },
  {
   "cell_type": "code",
   "execution_count": 1,
   "metadata": {
    "collapsed": false
   },
   "outputs": [
    {
     "name": "stdout",
     "output_type": "stream",
     "text": [
      "inside 40\n",
      "40\n"
     ]
    }
   ],
   "source": [
    "a  = 20\n",
    "if a>10:\n",
    "    a = 40\n",
    "    print('inside %a' %a)\n",
    "print(a)"
   ]
  },
  {
   "cell_type": "code",
   "execution_count": null,
   "metadata": {
    "collapsed": true
   },
   "outputs": [],
   "source": []
  }
 ],
 "metadata": {
  "kernelspec": {
   "display_name": "Python 3",
   "language": "python",
   "name": "python3"
  },
  "language_info": {
   "codemirror_mode": {
    "name": "ipython",
    "version": 3
   },
   "file_extension": ".py",
   "mimetype": "text/x-python",
   "name": "python",
   "nbconvert_exporter": "python",
   "pygments_lexer": "ipython3",
   "version": "3.5.5"
  }
 },
 "nbformat": 4,
 "nbformat_minor": 2
}
