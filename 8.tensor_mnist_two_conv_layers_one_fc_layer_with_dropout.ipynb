{
 "cells": [
  {
   "cell_type": "code",
   "execution_count": 2,
   "metadata": {
    "collapsed": false
   },
   "outputs": [],
   "source": [
    "import tensorflow as tf\n",
    "import tensorflow.examples.tutorials.mnist.input_data as inputData\n",
    "import matplotlib.pyplot as plt\n",
    "import numpy as np\n",
    "from sklearn.metrics import confusion_matrix\n",
    "import time\n",
    "from datetime import timedelta"
   ]
  },
  {
   "cell_type": "code",
   "execution_count": 4,
   "metadata": {
    "collapsed": false
   },
   "outputs": [
    {
     "name": "stdout",
     "output_type": "stream",
     "text": [
      "Extracting data\\train-images-idx3-ubyte.gz\n",
      "Extracting data\\train-labels-idx1-ubyte.gz\n",
      "Extracting data\\t10k-images-idx3-ubyte.gz\n",
      "Extracting data\\t10k-labels-idx1-ubyte.gz\n"
     ]
    }
   ],
   "source": [
    "data = inputData.read_data_sets('data', one_hot=True)"
   ]
  },
  {
   "cell_type": "code",
   "execution_count": 5,
   "metadata": {
    "collapsed": true
   },
   "outputs": [],
   "source": [
    "def plotNumbers(imset, valset, dimen):\n",
    "    fig, axis = plt.subplots(dimen[0],dimen[1])\n",
    "\n",
    "    for pos, sub in enumerate(axis.flat):\n",
    "        sub.imshow(imset[pos].reshape((28,28)))\n",
    "        sub.set_xticks([])\n",
    "        sub.set_yticks([])\n",
    "        sub.set_xlabel('pred:%r' %valset[pos])\n",
    "    plt.show()"
   ]
  },
  {
   "cell_type": "code",
   "execution_count": 14,
   "metadata": {
    "collapsed": false
   },
   "outputs": [
    {
     "name": "stdout",
     "output_type": "stream",
     "text": [
      "input is             <tf.Tensor 'Reshape_8:0' shape=(?, 28, 28, 1) dtype=float32>\n",
      "weight is            <tf.Variable 'Variable_10:0' shape=(5, 5, 1, 12) dtype=float32_ref>\n",
      "bias is              <tf.Variable 'Variable_11:0' shape=(12,) dtype=float32_ref>\n",
      "conv out, cn1 is     <tf.Tensor 'add_5:0' shape=(?, 28, 28, 12) dtype=float32>\n",
      "conv relu, cn1_relu  <tf.Tensor 'Relu_5:0' shape=(?, 28, 28, 12) dtype=float32>\n"
     ]
    }
   ],
   "source": [
    "image_size = 28\n",
    "input_size = 784\n",
    "LRF_size = 5\n",
    "cn1_filters = 12\n",
    "cn2_filters = 20\n",
    "fc_layer = 100\n",
    "output_layer = 10\n",
    "\n",
    "\n",
    "X = tf.placeholder(tf.float32, [None, input_size])\n",
    "X_for_conv = tf.reshape(X, [-1, image_size, image_size, 1])\n",
    "Y_ori = tf.placeholder(tf.float32, shape=[None, output_layer])\n",
    "is_dropOut = tf.placeholder(tf.bool)\n",
    "\n",
    "Wcn1 = tf.Variable(initial_value=tf.truncated_normal(shape=[LRF_size, LRF_size, 1, cn1_filters], stddev=0.1))\n",
    "bcn1 = tf.Variable(initial_value=tf.ones(shape=[cn1_filters])/10)\n",
    "\n",
    "cn1 = tf.nn.conv2d(X_for_conv, Wcn1, strides=[1, 1, 1, 1], padding='SAME') + bcn1\n",
    "cn1_relu = tf.nn.relu(cn1)\n",
    "if is_dropOut is True:\n",
    "    cn1_relu = tf.nn.dropout(cn1_relu, keep_prob=0.75) \n",
    "\n",
    "print('input is             %a' %X_for_conv)\n",
    "print('weight is            %a' %Wcn1)\n",
    "print('bias is              %a' %bcn1)\n",
    "print('conv out, cn1 is     %a' %cn1)\n",
    "print('conv relu, cn1_relu  %a' %cn1_relu)"
   ]
  },
  {
   "cell_type": "code",
   "execution_count": 15,
   "metadata": {
    "collapsed": false
   },
   "outputs": [
    {
     "name": "stdout",
     "output_type": "stream",
     "text": [
      "weight is            <tf.Variable 'Variable_12:0' shape=(5, 5, 12, 20) dtype=float32_ref>\n",
      "bias is              <tf.Variable 'Variable_13:0' shape=(20,) dtype=float32_ref>\n",
      "conv out, cn2 is     <tf.Tensor 'add_6:0' shape=(?, 28, 28, 20) dtype=float32>\n",
      "conv relu, cn2_relu  <tf.Tensor 'Relu_6:0' shape=(?, 28, 28, 20) dtype=float32>\n"
     ]
    }
   ],
   "source": [
    "Wcn2 = tf.Variable(initial_value=tf.truncated_normal(shape=[LRF_size, LRF_size, cn1_filters, cn2_filters], stddev=0.1))\n",
    "bcn2 = tf.Variable(initial_value=tf.ones(cn2_filters)/10)\n",
    "\n",
    "cn2 = tf.nn.conv2d(cn1_relu, Wcn2, strides=[1, 1, 1, 1], padding='SAME') + bcn2\n",
    "cn2_relu = tf.nn.relu(cn2)\n",
    "if is_dropOut is True:\n",
    "    cn2_relu = tf.nn.dropout(cn2_relu, keep_prob=0.75)\n",
    "\n",
    "print('weight is            %a' %Wcn2)\n",
    "print('bias is              %a' %bcn2)\n",
    "print('conv out, cn2 is     %a' %cn2)\n",
    "print('conv relu, cn2_relu  %a' %cn2_relu)"
   ]
  },
  {
   "cell_type": "code",
   "execution_count": 16,
   "metadata": {
    "collapsed": false
   },
   "outputs": [
    {
     "name": "stdout",
     "output_type": "stream",
     "text": [
      "cn2_reshaped is      <tf.Tensor 'Reshape_9:0' shape=(?, 15680) dtype=float32>\n",
      "weight is            <tf.Variable 'Variable_14:0' shape=(15680, 100) dtype=float32_ref>\n",
      "bias is              <tf.Variable 'Variable_15:0' shape=(100,) dtype=float32_ref>\n",
      "logits_fc is          <tf.Tensor 'add_7:0' shape=(?, 100) dtype=float32>\n"
     ]
    }
   ],
   "source": [
    "fully_connected_input_size = cn2_relu.shape[1:4].num_elements()\n",
    "cn2_reshaped = tf.reshape(cn2_relu, shape=[-1, fully_connected_input_size])\n",
    "\n",
    "Wfc = tf.Variable(initial_value=tf.truncated_normal(shape=[fully_connected_input_size, fc_layer], stddev=0.1)) \n",
    "bfc = tf.Variable(initial_value=tf.ones(fc_layer)/10)\n",
    "\n",
    "print('cn2_reshaped is      %a' %cn2_reshaped)\n",
    "print('weight is            %a' %Wfc)\n",
    "print('bias is              %a' %bfc)\n",
    "\n",
    "logits_fc = tf.matmul(cn2_reshaped, Wfc) + bfc\n",
    "if is_dropOut is True:\n",
    "    logits_fc = tf.nn.dropout(logits_fc, keep_prob=0.75)\n",
    "\n",
    "print('logits_fc is          %a' %logits_fc)"
   ]
  },
  {
   "cell_type": "code",
   "execution_count": 9,
   "metadata": {
    "collapsed": false
   },
   "outputs": [
    {
     "name": "stdout",
     "output_type": "stream",
     "text": [
      "weight is            <tf.Variable 'Variable_6:0' shape=(100, 10) dtype=float32_ref>\n",
      "bias is              <tf.Variable 'Variable_7:0' shape=(10,) dtype=float32_ref>\n",
      "logits_L is          <tf.Tensor 'add_3:0' shape=(?, 10) dtype=float32>\n"
     ]
    }
   ],
   "source": [
    "WL = tf.Variable(initial_value=tf.truncated_normal(shape=[fc_layer, output_layer], stddev=0.1)) \n",
    "bL = tf.Variable(initial_value=tf.ones(output_layer)/10)\n",
    "\n",
    "print('weight is            %a' %WL)\n",
    "print('bias is              %a' %bL)\n",
    "\n",
    "logits_L = tf.matmul(logits_fc, WL) + bL\n",
    "Y_pred = tf.nn.softmax(logits_L)\n",
    "\n",
    "print('logits_L is          %a' %logits_L)"
   ]
  },
  {
   "cell_type": "code",
   "execution_count": 11,
   "metadata": {
    "collapsed": false
   },
   "outputs": [],
   "source": [
    "cross_entropy = tf.nn.softmax_cross_entropy_with_logits(logits=logits_L, labels=Y_ori)\n",
    "cost = tf.reduce_mean(cross_entropy)\n",
    "\n",
    "optimizer = tf.train.AdamOptimizer(learning_rate=0.003).minimize(cost)\n",
    "\n",
    "correct_prediction = tf.equal(tf.argmax(Y_pred, axis=1), tf.argmax(Y_ori, axis=1))\n",
    "accuracy = tf.reduce_mean(tf.cast(correct_prediction, tf.float32))"
   ]
  },
  {
   "cell_type": "code",
   "execution_count": 133,
   "metadata": {
    "collapsed": false
   },
   "outputs": [
    {
     "name": "stdout",
     "output_type": "stream",
     "text": [
      "[0.0779, 0.0904, 0.1809, 0.237, 0.224, 0.2546, 0.2656, 0.2381, 0.2602, 0.2892]\n",
      "[5.4047694, 5.7076063, 3.8730843, 2.9990046, 2.39899, 2.154399, 2.0794637, 2.051934, 2.0272703, 1.982882]\n"
     ]
    }
   ],
   "source": [
    "init = tf.global_variables_initializer()\n",
    "sess = tf.Session()\n",
    "sess.run(init)\n",
    "\n",
    "accu_list = []\n",
    "cost_list = []\n",
    "iteration = 50\n",
    "acc_check_list = np.arange(0, iteration, int(iteration/50))\n",
    "\n",
    "start_time = time.time()\n",
    "for val in range(iteration):\n",
    "    next_batch_x, next_batch_y = data.train.next_batch(100)\n",
    "    sess.run(optimizer, feed_dict={X: next_batch_x, Y_ori: next_batch_y, is_dropOut: True})\n",
    "\n",
    "    if val in acc_check_list:\n",
    "        accu, cost_ = sess.run((accuracy, cost), feed_dict={X: data.test.images, Y_ori: data.test.labels, is_dropOut: False})\n",
    "        accu_list.append(accu)\n",
    "        cost_list.append(cost_)\n",
    "    \n",
    "print(accu_list)\n",
    "\n",
    "end_time = time.time()\n",
    "print('total time taken is %s' %str(timedelta(seconds=int(round(end_time-start_time)))))"
   ]
  },
  {
   "cell_type": "code",
   "execution_count": null,
   "metadata": {
    "collapsed": true
   },
   "outputs": [],
   "source": [
    "plt.plot(acc_check_list, accu_list[:])\n",
    "#plt.axis([0,iteration,0.88,0.99])\n",
    "\n",
    "plt.plot(acc_check_list, cost_list[:])\n",
    "plt.show()"
   ]
  },
  {
   "cell_type": "code",
   "execution_count": null,
   "metadata": {
    "collapsed": true
   },
   "outputs": [],
   "source": [
    "plt.plot(acc_check_list, accu_list[:])\n",
    "plt.axis([0,iteration,0.88,0.99])\n",
    "plt.show()"
   ]
  },
  {
   "cell_type": "code",
   "execution_count": null,
   "metadata": {
    "collapsed": false
   },
   "outputs": [],
   "source": [
    "li = ['a', 'a', 'b','b','b', 'b','c','d','d','d','d']\n",
    "#one option\n",
    "max(li,key=li.count)\n",
    "\n",
    "#second option\n",
    "from collections import Counter\n",
    "data = Counter(li)\n",
    "data.most_common(1)[0][0]"
   ]
  },
  {
   "cell_type": "code",
   "execution_count": null,
   "metadata": {
    "collapsed": true
   },
   "outputs": [],
   "source": []
  }
 ],
 "metadata": {
  "kernelspec": {
   "display_name": "Python 3",
   "language": "python",
   "name": "python3"
  },
  "language_info": {
   "codemirror_mode": {
    "name": "ipython",
    "version": 3
   },
   "file_extension": ".py",
   "mimetype": "text/x-python",
   "name": "python",
   "nbconvert_exporter": "python",
   "pygments_lexer": "ipython3",
   "version": "3.5.5"
  }
 },
 "nbformat": 4,
 "nbformat_minor": 2
}
